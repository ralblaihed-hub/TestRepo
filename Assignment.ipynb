# Question 1: Extract Tesla Stock Data Using yfinance

import yfinance as yf
tesla = yf.Ticker("TSLA")
tesla_stock = tesla.history(period="max")
tesla_data = tesla_stock.reset_index()
print(tesla_data.head())

Question 2: Use Webscraping to Extract Tesla Revenue Data

import requests
from bs4 import BeautifulSoup
import pandas as pd
url = "https://cf-courses-data.s3.us.cloud-object-storage.appdomain.cloud/IBMDeveloperSkillsNetwork-PY0220EN-SkillsNetwork/labs/project/revenue.htm"
response = requests.get(url)
html_data = response.text
soup = BeautifulSoup(html_data, "html.parser")
tables = soup.find_all('table')
tesla_revenue = pd.read_html(str(tables[0]))[0]
tesla_revenue.columns = ["Date", "Revenue"]
tesla_revenue = tesla_revenue[tesla_revenue["Revenue"] != ""]
tesla_revenue["Revenue"] = tesla_revenue["Revenue"].str.replace('$', '').str.replace(',', '')
tesla_revenue["Revenue"] = pd.to_numeric(tesla_revenue["Revenue"], errors='coerce')
print(tesla_revenue.tail())

Question 3: Use yfinance to Extract Stock Data

gamestop = yf.Ticker("GME")
gme_data = gamestop.history(period="max")
gme_data.reset_index(inplace=True)
print(gme_data.head())

Question 4: Use Webscraping to Extract GME Revenue Data

import requests
from bs4 import BeautifulSoup
import pandas as pd
url = "https://cf-courses-data.s3.us.cloud-object-storage.appdomain.cloud/IBMDeveloperSkillsNetwork-PY0220EN-SkillsNetwork/labs/project/revenue.htm"
response = requests.get(url)
html_data = response.text
soup = BeautifulSoup(html_data, "html.parser")
tables = pd.read_html(html_data)
gme_revenue = tables[1]
gme_revenue.columns = ["Date", "Revenue"]
gme_revenue = gme_revenue[gme_revenue["Revenue"] != ""]
gme_revenue["Revenue"] = gme_revenue["Revenue"].str.replace('$', '').str.replace(',', '')
gme_revenue["Revenue"] = pd.to_numeric(gme_revenue["Revenue"], errors='coerce')
print(gme_revenue.tail())

Question 5: Plot Tesla Stock Graph

import yfinance as yf
import matplotlib.pyplot as plt
tesla = yf.Ticker("TSLA")
tesla_data = tesla.history(period="max").reset_index()
def make_graph(data, title):
    plt.figure(figsize=(14, 6))
    plt.plot(data['Date'], data['Close'])
    plt.title(title)
    plt.xlabel('Date')
    plt.ylabel('Closing Price (USD)')
    plt.grid(True)
    plt.show()

make_graph(tesla_data, "Tesla Stock Price Over Time")

Question 6: Plot GameStop Stock Graph

gme = yf.Ticker("GME")
gme_data = gme.history(period="max").reset_index()

make_graph(gme_data, "GameStop Stock Price Over Time")
